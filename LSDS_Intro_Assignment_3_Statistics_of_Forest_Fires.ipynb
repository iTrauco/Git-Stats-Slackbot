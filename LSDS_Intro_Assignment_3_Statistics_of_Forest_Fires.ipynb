{
  "nbformat": 4,
  "nbformat_minor": 0,
  "metadata": {
    "colab": {
      "name": "Copy of LSDS Intro Assignment 3 - Statistics of Forest Fires.ipynb",
      "version": "0.3.2",
      "provenance": [],
      "collapsed_sections": [],
      "include_colab_link": true
    },
    "kernelspec": {
      "name": "python3",
      "display_name": "Python 3"
    }
  },
  "cells": [
    {
      "cell_type": "markdown",
      "metadata": {
        "id": "view-in-github",
        "colab_type": "text"
      },
      "source": [
        "<a href=\"https://colab.research.google.com/github/sapinspys/gh-activity-slackbot/blob/master/LSDS_Intro_Assignment_3_Statistics_of_Forest_Fires.ipynb\" target=\"_parent\"><img src=\"https://colab.research.google.com/assets/colab-badge.svg\" alt=\"Open In Colab\"/></a>"
      ]
    },
    {
      "cell_type": "markdown",
      "metadata": {
        "id": "uKYVNFs44mfD",
        "colab_type": "text"
      },
      "source": [
        "# Lambda School Data Science - Forest Fire Statistics\n",
        "\n",
        "![Forest fire](https://www.publicdomainpictures.net/pictures/220000/velka/forest-fire.jpg)\n",
        "\n",
        "Forest fires are a sadly timely topic, but data can help us better understand and perhaps manage them in future. In this assignment you'll look at a data set of forest fires in Portugal during 2007 - this is a real research dataset, and you can [read more about it](https://archive.ics.uci.edu/ml/datasets/Forest+Fires) though you do not need to for this assignment.\n",
        "\n",
        "For our purposes, the main thing that you need to understand are the attributes in the data.\n",
        "\n",
        "1. X - x-axis spatial coordinate within the Montesinho park map: 1 to 9\n",
        "2. Y - y-axis spatial coordinate within the Montesinho park map: 2 to 9\n",
        "3. month - month of the year: 'jan' to 'dec'\n",
        "4. day - day of the week: 'mon' to 'sun'\n",
        "5. FFMC - FFMC index from the FWI system: 18.7 to 96.20\n",
        "6. DMC - DMC index from the FWI system: 1.1 to 291.3\n",
        "7. DC - DC index from the FWI system: 7.9 to 860.6\n",
        "8. ISI - ISI index from the FWI system: 0.0 to 56.10\n",
        "9. temp - temperature in Celsius degrees: 2.2 to 33.30\n",
        "10. RH - relative humidity in %: 15.0 to 100\n",
        "11. wind - wind speed in km/h: 0.40 to 9.40\n",
        "12. rain - outside rain in mm/m2 : 0.0 to 6.4\n",
        "13. area - the burned area of the forest (in ha): 0.00 to 1090.84 \n",
        "\n",
        "Most of these features are numeric - this means we can do things like look at their mean, median, mode, and plot histograms. They have technical sounding names, but generally refer to meteorological data (i.e. the weather).\n",
        "\n",
        "For the discrete features we can still draw histograms (as in the lecture notebook). X and Y are already integer values - month and day do have natural order, but if you want to use them you may want to translate them from strings to numbers (hint - you can build a dict that maps them, and loop over to apply it)."
      ]
    },
    {
      "cell_type": "markdown",
      "metadata": {
        "id": "2hdt1i4H6gQ2",
        "colab_type": "text"
      },
      "source": [
        "## Exercise 1 - Load the data and take a peek\n",
        "\n",
        "The data is accessible as a CSV at the URL: https://archive.ics.uci.edu/ml/machine-learning-databases/forest-fires/forestfires.csv\n",
        "\n",
        "You want to load this into a dataframe, so you can then look at the variables and perform descriptive statistics.\n",
        "\n",
        "After you load it, verify that you've got it working by printing the first five rows of data."
      ]
    },
    {
      "cell_type": "code",
      "metadata": {
        "id": "s1ZQrmPs282o",
        "colab_type": "code",
        "outputId": "9dfdc51d-610f-4372-e89d-4c6a953d041b",
        "colab": {
          "base_uri": "https://localhost:8080/",
          "height": 203
        }
      },
      "source": [
        "import pandas as pd\n",
        "\n",
        "df = pd.read_csv('https://archive.ics.uci.edu/ml/machine-learning-databases/forest-fires/forestfires.csv')\n",
        "df.head(5)"
      ],
      "execution_count": 0,
      "outputs": [
        {
          "output_type": "execute_result",
          "data": {
            "text/html": [
              "<div>\n",
              "<style scoped>\n",
              "    .dataframe tbody tr th:only-of-type {\n",
              "        vertical-align: middle;\n",
              "    }\n",
              "\n",
              "    .dataframe tbody tr th {\n",
              "        vertical-align: top;\n",
              "    }\n",
              "\n",
              "    .dataframe thead th {\n",
              "        text-align: right;\n",
              "    }\n",
              "</style>\n",
              "<table border=\"1\" class=\"dataframe\">\n",
              "  <thead>\n",
              "    <tr style=\"text-align: right;\">\n",
              "      <th></th>\n",
              "      <th>X</th>\n",
              "      <th>Y</th>\n",
              "      <th>month</th>\n",
              "      <th>day</th>\n",
              "      <th>FFMC</th>\n",
              "      <th>DMC</th>\n",
              "      <th>DC</th>\n",
              "      <th>ISI</th>\n",
              "      <th>temp</th>\n",
              "      <th>RH</th>\n",
              "      <th>wind</th>\n",
              "      <th>rain</th>\n",
              "      <th>area</th>\n",
              "    </tr>\n",
              "  </thead>\n",
              "  <tbody>\n",
              "    <tr>\n",
              "      <th>0</th>\n",
              "      <td>7</td>\n",
              "      <td>5</td>\n",
              "      <td>mar</td>\n",
              "      <td>fri</td>\n",
              "      <td>86.2</td>\n",
              "      <td>26.2</td>\n",
              "      <td>94.3</td>\n",
              "      <td>5.1</td>\n",
              "      <td>8.2</td>\n",
              "      <td>51</td>\n",
              "      <td>6.7</td>\n",
              "      <td>0.0</td>\n",
              "      <td>0.0</td>\n",
              "    </tr>\n",
              "    <tr>\n",
              "      <th>1</th>\n",
              "      <td>7</td>\n",
              "      <td>4</td>\n",
              "      <td>oct</td>\n",
              "      <td>tue</td>\n",
              "      <td>90.6</td>\n",
              "      <td>35.4</td>\n",
              "      <td>669.1</td>\n",
              "      <td>6.7</td>\n",
              "      <td>18.0</td>\n",
              "      <td>33</td>\n",
              "      <td>0.9</td>\n",
              "      <td>0.0</td>\n",
              "      <td>0.0</td>\n",
              "    </tr>\n",
              "    <tr>\n",
              "      <th>2</th>\n",
              "      <td>7</td>\n",
              "      <td>4</td>\n",
              "      <td>oct</td>\n",
              "      <td>sat</td>\n",
              "      <td>90.6</td>\n",
              "      <td>43.7</td>\n",
              "      <td>686.9</td>\n",
              "      <td>6.7</td>\n",
              "      <td>14.6</td>\n",
              "      <td>33</td>\n",
              "      <td>1.3</td>\n",
              "      <td>0.0</td>\n",
              "      <td>0.0</td>\n",
              "    </tr>\n",
              "    <tr>\n",
              "      <th>3</th>\n",
              "      <td>8</td>\n",
              "      <td>6</td>\n",
              "      <td>mar</td>\n",
              "      <td>fri</td>\n",
              "      <td>91.7</td>\n",
              "      <td>33.3</td>\n",
              "      <td>77.5</td>\n",
              "      <td>9.0</td>\n",
              "      <td>8.3</td>\n",
              "      <td>97</td>\n",
              "      <td>4.0</td>\n",
              "      <td>0.2</td>\n",
              "      <td>0.0</td>\n",
              "    </tr>\n",
              "    <tr>\n",
              "      <th>4</th>\n",
              "      <td>8</td>\n",
              "      <td>6</td>\n",
              "      <td>mar</td>\n",
              "      <td>sun</td>\n",
              "      <td>89.3</td>\n",
              "      <td>51.3</td>\n",
              "      <td>102.2</td>\n",
              "      <td>9.6</td>\n",
              "      <td>11.4</td>\n",
              "      <td>99</td>\n",
              "      <td>1.8</td>\n",
              "      <td>0.0</td>\n",
              "      <td>0.0</td>\n",
              "    </tr>\n",
              "  </tbody>\n",
              "</table>\n",
              "</div>"
            ],
            "text/plain": [
              "   X  Y month  day  FFMC   DMC     DC  ISI  temp  RH  wind  rain  area\n",
              "0  7  5   mar  fri  86.2  26.2   94.3  5.1   8.2  51   6.7   0.0   0.0\n",
              "1  7  4   oct  tue  90.6  35.4  669.1  6.7  18.0  33   0.9   0.0   0.0\n",
              "2  7  4   oct  sat  90.6  43.7  686.9  6.7  14.6  33   1.3   0.0   0.0\n",
              "3  8  6   mar  fri  91.7  33.3   77.5  9.0   8.3  97   4.0   0.2   0.0\n",
              "4  8  6   mar  sun  89.3  51.3  102.2  9.6  11.4  99   1.8   0.0   0.0"
            ]
          },
          "metadata": {
            "tags": []
          },
          "execution_count": 3
        }
      ]
    },
    {
      "cell_type": "markdown",
      "metadata": {
        "id": "H82vSWGC6-Ui",
        "colab_type": "text"
      },
      "source": [
        "## Exercise 2 - Explore and summarize the data\n",
        "\n",
        "Now that you've got the data, take a deeper look at it - the description above gives the overall range (from minimum to maximum), but look at the other core statistics. You should pick three variables you want to look at - two continuous, and one discrete, and for each you should calculate the mean and median.\n",
        "\n",
        "Don't use the magic built-in functions of pandas or other libraries - write your own functions to calculate mean and median (you can of course refer to the lecture notebooks for help). This is a good exercise both to practice coding and reinforce the statistical concepts.\n",
        "\n",
        "For each of the three variables you look at, answer the following questions (as comments in your code):\n",
        "\n",
        "- Is the median larger or smaller than the mean?\n",
        "- What does that tell you about how the variable is distributed?\n",
        "- (For the discrete variable only) What is the mode?\n",
        "\n",
        "Hint - it may help to draw a histogram to look at the variable and really get a feel for it.\n",
        "\n",
        "Another hint - part of this exercise is making sure you can distinguish between continuous and discrete variables, so take some time to think through your choice of variables."
      ]
    },
    {
      "cell_type": "code",
      "metadata": {
        "id": "ud2P4P8pGQVs",
        "colab_type": "code",
        "outputId": "124560b3-9e18-425e-b725-56ec3085fe8e",
        "colab": {
          "base_uri": "https://localhost:8080/",
          "height": 281
        }
      },
      "source": [
        "# Remember, you should write your own code to calculate mean, median, and mode\n",
        "# If you want, you can doublecheck your answer with pandas methods afterwards\n",
        "# And if you want to draw a histogram, you should use:\n",
        "# from matplotlib.pyplot import hist\n",
        "\n",
        "'''A discrete random variable generally has a countable number of possible values while continuous random variables\n",
        "  take all values in a given interval. For this assignment I've chosen temperature and Fine Fuel Moisture Code (FFMC) \n",
        "  as the continuous variables and Relative Humidity (RH) as the discrete variable. I did take into consideration\n",
        "  the fact that percentages can be either continuous or discrete and decided it is discrete in this case because \n",
        "  the given RH percentages avoid using decimal percentages.'''\n",
        "\n",
        "from functools import reduce\n",
        "\n",
        "def meanMedian(numbers):\n",
        "    numbers.sort()\n",
        "    mean = round(reduce(lambda x, y: x+y, numbers)/len(numbers),3)\n",
        "    \n",
        "    if len(numbers)%2 == 0:\n",
        "      median = (numbers[(len(numbers)//2)-1] + numbers[((len(numbers)//2)+1)-1])/2  \n",
        "    else:\n",
        "      median_index = (len(numbers)+1)//2\n",
        "      median = numbers[median_index-1]\n",
        "        \n",
        "    return {'mean': mean, 'median': median}\n",
        "  \n",
        "def mode(numbers):\n",
        "    counter = {}\n",
        "    for num in numbers:\n",
        "      if num in counter:\n",
        "        counter[num] += 1\n",
        "      else:\n",
        "        counter[num] = 1\n",
        "    \n",
        "    mode = []\n",
        "    max_repeated = max(set(counter.values()))\n",
        "    for key in counter:\n",
        "      if counter[key] == max_repeated:\n",
        "        mode.append(key)\n",
        "        \n",
        "    return {'mode': mode}\n",
        "\n",
        "print(\"Continuous Variable 1: Temperature\")\n",
        "print(\"--->\", meanMedian(df.temp.tolist()))\n",
        "print(\"----> The median is almost equal to the mean\")\n",
        "print(\"----> Temperature distribution is normal \\n\")\n",
        "\n",
        "print(\"Continuous Variable 2: Fine Fuel Moisture Code (FFMC)\")\n",
        "print(\"--->\", meanMedian(df.FFMC.tolist()))\n",
        "print(\"----> The median is greater than the mean\")\n",
        "print(\"----> FFMC distribution is negatively skewed\\n\")\n",
        "\n",
        "print(\"Discrete Variable: Relative Humidity\")\n",
        "meanMedianMode = meanMedian(df.RH.tolist())\n",
        "mode = mode(df.RH.tolist())\n",
        "meanMedianMode[\"mode\"] = mode[\"mode\"]\n",
        "print(\"--->\", meanMedianMode)\n",
        "print(\"----> The median is less than the mean\")\n",
        "print(\"----> RH distribution is positively skewed \\n\")\n"
      ],
      "execution_count": 0,
      "outputs": [
        {
          "output_type": "stream",
          "text": [
            "Continuous Variable 1: Temperature\n",
            "---> {'mean': 18.889, 'median': 19.3}\n",
            "----> The median is almost equal to the mean\n",
            "----> Temperature distribution is normal \n",
            "\n",
            "Continuous Variable 2: Fine Fuel Moisture Code (FFMC)\n",
            "---> {'mean': 90.645, 'median': 91.6}\n",
            "----> The median is greater than the mean\n",
            "----> FFMC distribution is negatively skewed\n",
            "\n",
            "Discrete Variable: Relative Humidity\n",
            "---> {'mean': 44.288, 'median': 42, 'mode': [27]}\n",
            "----> The median is less than the mean\n",
            "----> RH distribution is positively skewed \n",
            "\n"
          ],
          "name": "stdout"
        }
      ]
    },
    {
      "cell_type": "code",
      "metadata": {
        "id": "Jdsvuj8n8Kic",
        "colab_type": "code",
        "outputId": "d82763a7-f9d7-47fe-9ffa-6c2caef1a274",
        "colab": {
          "base_uri": "https://localhost:8080/",
          "height": 524
        }
      },
      "source": [
        "# Cross-checking answer:\n",
        "\n",
        "import matplotlib.pyplot as plt\n",
        "import numpy as np\n",
        "from statistics import mean, median, mode\n",
        "\n",
        "print(\"Continuous Variable 1: Temperature\")\n",
        "print(\"---> Mean:\", round(mean(df.temp), 3), \"C\")\n",
        "print(\"---> Median:\", round(median(df.temp), 3), \"C \\n\")\n",
        "\n",
        "print(\"Continuous Variable 2: Fine Fuel Moisture Code (FFMC)\")\n",
        "print(\"---> Mean:\", round(mean(df.FFMC), 3), \"FFMC\")\n",
        "print(\"---> Median:\", round(median(df.FFMC), 3), \"FFMC \\n\")\n",
        "\n",
        "print(\"Discrete Variable: Relative Humidity\")\n",
        "print(\"---> Mean:\", round(mean(df.RH), 3), \"%\")\n",
        "print(\"---> Median:\", round(median(df.RH), 3), \"%\")\n",
        "print(\"---> Mode:\", round(mode(df.RH), 3), \"% \\n\")\n",
        "\n",
        "num_bins = 30\n",
        "\n",
        "x = df.temp\n",
        "y = df.FFMC\n",
        "z = df.RH\n",
        "\n",
        "fig, axes = plt.subplots(nrows=1, ncols=3, figsize=(14, 4))\n",
        "ax0, ax1, ax2 = axes.flatten()\n",
        "\n",
        "ax0.hist(x, bins=num_bins, alpha=0.7, rwidth=0.85)\n",
        "ax1.hist(y, bins=num_bins, alpha=0.7, rwidth=0.85)\n",
        "ax2.hist(z, bins=num_bins, alpha=0.7, rwidth=0.85)\n",
        "\n",
        "ax0.set_xlabel('Temperature (C)')\n",
        "ax0.set_ylabel('Frequency')\n",
        "ax0.set_title('Histogram of Temperature')\n",
        "ax0.grid(axis='y', alpha=0.75)\n",
        "\n",
        "ax1.set_xlabel('Fine Fuel Moisture Code (FFMC)')\n",
        "ax1.set_ylabel('Frequency')\n",
        "ax1.set_title('Histogram of Fine Fuel Moisture Code')\n",
        "ax1.grid(axis='y', alpha=0.75)\n",
        "\n",
        "ax2.set_xlabel('Relative Humidity (%)')\n",
        "ax2.set_ylabel('Frequency')\n",
        "ax2.set_title('Histogram of Relative Humidity')\n",
        "ax2.grid(axis='y', alpha=0.75)\n",
        "\n",
        "fig.show()\n",
        "\n",
        "# NOTE: The FFMC is a numerical rating of the moisture content of litter and other cured fine fuels (needles,\n",
        "# mosses, twigs less than I cm in diameter). The FFMC is representative of the top litter layer less than\n",
        "# 1 inch deep (1-2 cm deep), and has a typical fuel loading of about 2.2 tons per acre (5 tonnes per\n",
        "# hectare) (Groot)."
      ],
      "execution_count": 0,
      "outputs": [
        {
          "output_type": "stream",
          "text": [
            "Continuous Variable 1: Temperature\n",
            "---> Mean: 18.889 C\n",
            "---> Median: 19.3 C \n",
            "\n",
            "Continuous Variable 2: Fine Fuel Moisture Code (FFMC)\n",
            "---> Mean: 90.645 FFMC\n",
            "---> Median: 91.6 FFMC \n",
            "\n",
            "Discrete Variable: Relative Humidity\n",
            "---> Mean: 44.288 %\n",
            "---> Median: 42 %\n",
            "---> Mode: 27 % \n",
            "\n"
          ],
          "name": "stdout"
        },
        {
          "output_type": "display_data",
          "data": {
            "image/png": "[encoded data removed]",
            "text/plain": [
              "<Figure size 1008x288 with 3 Axes>"
            ]
          },
          "metadata": {
            "tags": []
          }
        }
      ]
    },
    {
      "cell_type": "markdown",
      "metadata": {
        "id": "rMWYZKVX-HGM",
        "colab_type": "text"
      },
      "source": [
        "## Exercise 3 - Simulate more data!\n",
        "\n",
        "There are many more things that could be done with this data, but for now we've not learned about hypothesis testing or inferential statistics. So, one fun thing to do is - make more data!\n",
        "\n",
        "How do we do that? We can use the same `random` module demonstrated in lecture, and repeatedly sample our data. This is related to the Monte Carlo method used to demonstrate the central limit theorem. In this setting, such simulations could then be applied to Bayesian methods - another topic for another time.\n",
        "\n",
        "For the same three variables that you looked at in exercise 2, you should do the following:\n",
        "\n",
        "1. Generate a *new* variable based on taking values at random from the original one - make the new variable have at least 10 times as many observations as the original\n",
        "2. Calculate the mean, median, and mode of the new variable (it's okay to use prewritten functions for this)\n",
        "3. Compare your results to what you saw in exercise 2 - it should be very similar\n",
        "\n",
        "Once you're done, look back at your code. Chances are you learned things as you wrote it, and you can revisit it to clean it up a bit. Maybe put pieces of code you use multiple times in a function, or add some explanatory comments so anyone reading (including \"future you\") has a clearer understanding of what you did."
      ]
    },
    {
      "cell_type": "code",
      "metadata": {
        "id": "yExZ2S4W-xDG",
        "colab_type": "code",
        "outputId": "c2dcbd45-1e3f-4502-81d6-9cc1692ade8e",
        "colab": {
          "base_uri": "https://localhost:8080/",
          "height": 175
        }
      },
      "source": [
        "# You'll definitely want to import random\n",
        "# And you may find random.choice particularly helpful\n",
        "\n",
        "import random\n",
        "\n",
        "RH = df.RH.tolist()\n",
        "new_size = len(RH)*10\n",
        "\n",
        "# sample = random.sample(RH, new_size)\n",
        "# Using random.sample() returns error: \"Sample larger than population or is negative\"\n",
        "\n",
        "results = np.random.choice(RH, new_size)\n",
        "\n",
        "print(\"Discrete Variable: Relative Humidity\")\n",
        "print(\"---> Mean:\", round(mean(RH), 3), \"%\")\n",
        "print(\"---> Median:\", round(median(RH), 3), \"%\")\n",
        "print(\"---> Mode:\", round(mode(RH), 3), \"% \\n\")\n",
        "\n",
        "print(\"Discrete Variable: Relative Humidity\")\n",
        "print(\"---> Mean:\", round(mean(results), 3), \"%\")\n",
        "print(\"---> Median:\", round(median(results), 3), \"%\")\n",
        "print(\"---> Mode:\", round(mode(results), 3), \"%\")"
      ],
      "execution_count": 0,
      "outputs": [
        {
          "output_type": "stream",
          "text": [
            "Discrete Variable: Relative Humidity\n",
            "---> Mean: 44.288 %\n",
            "---> Median: 42 %\n",
            "---> Mode: 27 % \n",
            "\n",
            "Discrete Variable: Relative Humidity\n",
            "---> Mean: 44 %\n",
            "---> Median: 42.0 %\n",
            "---> Mode: 27 %\n"
          ],
          "name": "stdout"
        }
      ]
    },
    {
      "cell_type": "markdown",
      "metadata": {
        "id": "sj5RYe9yBlfh",
        "colab_type": "text"
      },
      "source": [
        "## Exercise 4 (*Optional* \"stretch goal\") - Simulate a *lot* of data\n",
        "\n",
        "For *one* of the variables you've been looking at:\n",
        "\n",
        "1. Make an empty list `variablename_means`\n",
        "2. Use your code from exercise 3 to run a Monte Carlo simulation of 1000 experiments where you make a new simulated variable (hint - you'll need a loop)\n",
        "3. For each experiment, calculate the mean of the simulated variable, and append it to the list\n",
        "4. Plot the list as a histogram\n",
        "\n",
        "Once you've done the above, answer the question - how does the distribution of the histogram (of the means of a bunch of simulations of real data) look?"
      ]
    },
    {
      "cell_type": "code",
      "metadata": {
        "id": "JKlXME96Tuqs",
        "colab_type": "code",
        "outputId": "bf3486c7-90b9-4188-ff45-33e618a09efb",
        "colab": {
          "base_uri": "https://localhost:8080/",
          "height": 295
        }
      },
      "source": [
        "def myMean(numbers):\n",
        "  return sum(numbers)/len(numbers)\n",
        "\n",
        "RH_means = []\n",
        "for experiment in range(1000):\n",
        "  results = np.random.choice(RH, new_size)\n",
        "  RH_means.append(myMean(results))\n",
        "\n",
        "plt.hist(RH_means, bins=30, alpha=0.7, rwidth=0.85)\n",
        "plt.xlabel('Relative Humidity (%)')\n",
        "plt.ylabel('Frequency')\n",
        "plt.title('Histogram of Relative Humidity')\n",
        "plt.grid(axis='y', alpha=0.75)\n",
        "plt.show()\n",
        "\n",
        "# The experimental dataset is normally distributed"
      ],
      "execution_count": 0,
      "outputs": [
        {
          "output_type": "display_data",
          "data": {
            "image/png": "[encoded data removed]",
            "text/plain": [
              "<Figure size 432x288 with 1 Axes>"
            ]
          },
          "metadata": {
            "tags": []
          }
        }
      ]
    }
  ]
}